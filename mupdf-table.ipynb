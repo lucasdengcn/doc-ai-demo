{
 "cells": [
  {
   "cell_type": "code",
   "execution_count": 2,
   "metadata": {},
   "outputs": [],
   "source": [
    "import fitz"
   ]
  },
  {
   "cell_type": "code",
   "execution_count": 3,
   "metadata": {},
   "outputs": [],
   "source": [
    "if not hasattr(fitz.Page, \"find_tables\"):\n",
    "    raise RuntimeError(\"This PyMuPDF version does not support the table feature\")"
   ]
  },
  {
   "cell_type": "code",
   "execution_count": 1,
   "metadata": {},
   "outputs": [],
   "source": [
    "PDF_PATH = '/Users/yamingdeng/Downloads/fintech/2020-02-20__山东益生种畜禽股份有限公司__002458__益生股份__2019年__年度报告.pdf'"
   ]
  },
  {
   "cell_type": "code",
   "execution_count": 5,
   "metadata": {},
   "outputs": [],
   "source": [
    "doc = fitz.open(PDF_PATH)  # open example file"
   ]
  },
  {
   "cell_type": "code",
   "execution_count": 25,
   "metadata": {},
   "outputs": [
    {
     "name": "stdout",
     "output_type": "stream",
     "text": [
      "3\n"
     ]
    }
   ],
   "source": [
    "page = doc[5]\n",
    "tables = page.find_tables().tables\n",
    "print(len(tables))"
   ]
  },
  {
   "cell_type": "code",
   "execution_count": 29,
   "metadata": {},
   "outputs": [
    {
     "name": "stdout",
     "output_type": "stream",
     "text": [
      "3\n",
      "9\n"
     ]
    }
   ],
   "source": [
    "table = tables[1]\n",
    "print(table.col_count)\n",
    "print(table.row_count)"
   ]
  },
  {
   "cell_type": "code",
   "execution_count": 30,
   "metadata": {},
   "outputs": [],
   "source": [
    "out = table.extract()"
   ]
  },
  {
   "cell_type": "code",
   "execution_count": 31,
   "metadata": {},
   "outputs": [
    {
     "name": "stdout",
     "output_type": "stream",
     "text": [
      "['', '董事会秘书', '证券事务代表']\n",
      "['姓名', '林杰', '李玲']\n",
      "['', '山东省烟台市福山区（空港路南）益生', '山东省烟台市福山区（空港路南）益生']\n",
      "['联系地址', None, None]\n",
      "[None, '路1 号', '路1 号']\n",
      "['', None, None]\n",
      "['电话', '0535-2119076', '0535-2119065']\n",
      "['传真', '0535-2119002', '0535-2119002']\n",
      "['电子信箱', 'cw@yishenggufen.com', 'ysgfliling@163.com']\n"
     ]
    }
   ],
   "source": [
    "for row in out:\n",
    "    print(row)"
   ]
  },
  {
   "cell_type": "code",
   "execution_count": 34,
   "metadata": {},
   "outputs": [
    {
     "name": "stdout",
     "output_type": "stream",
     "text": [
      "table found: 3\n",
      "table col: 7, row: 24\n"
     ]
    }
   ],
   "source": [
    "page = doc[6]\n",
    "tables = page.find_tables().tables\n",
    "print(f'table found: {len(tables)}')\n",
    "table = tables[2]\n",
    "print(f'table col: {table.col_count}, row: {table.row_count}')\n",
    "out = table.extract()"
   ]
  },
  {
   "cell_type": "code",
   "execution_count": 40,
   "metadata": {},
   "outputs": [
    {
     "data": {
      "text/plain": [
       "['会计政策变更', '', '', '', '', '', '']"
      ]
     },
     "execution_count": 40,
     "metadata": {},
     "output_type": "execute_result"
    }
   ],
   "source": [
    "table.header.names"
   ]
  },
  {
   "cell_type": "code",
   "execution_count": 35,
   "metadata": {},
   "outputs": [
    {
     "name": "stdout",
     "output_type": "stream",
     "text": [
      "['', '', '', None, '本年比上年增', '', None]\n",
      "[None, None, '2018 年', None, None, '2017 年', None]\n",
      "['', '2019 年', None, None, '减', None, None]\n",
      "[None, None, '', None, None, '', None]\n",
      "['', '', '调整前', '调整后', '调整后', '调整前', '调整后']\n",
      "['', '3,583,534,105.', '1,473,118,954.', '1,473,118,954.', '', '', '']\n",
      "['营业收入（元）', None, None, None, '143.26%', '656,404,863.44', '656,404,863.44']\n",
      "[None, '26', '89', '89', None, None, None]\n",
      "['', None, None, None, '', '', '']\n",
      "['归属于上市公司股东的净利', '2,176,039,144.', '', '', '', '-310,368,160.5', '-310,368,160.5']\n",
      "[None, None, '362,837,501.79', '362,837,501.79', '499.73%', None, None]\n",
      "['润（元）', '86', None, None, None, '8', '8']\n",
      "[None, None, '', '', '', None, None]\n",
      "['归属于上市公司股东的扣除', '2,175,209,364.', '', '', '', '-320,627,943.5', '-320,627,943.5']\n",
      "[None, None, '363,569,959.67', '363,569,959.67', '498.29%', None, None]\n",
      "['非经常性损益的净利润（元）', '60', None, None, None, '2', '2']\n",
      "[None, None, '', '', '', None, None]\n",
      "['经营活动产生的现金流量净', '2,134,744,427.', '', '', '', '-140,988,484.0', '-140,988,484.0']\n",
      "[None, None, '428,795,290.14', '428,795,290.14', '397.85%', None, None]\n",
      "['额（元）', '38', None, None, None, '9', '9']\n",
      "[None, None, '', '', '', None, None]\n",
      "['基本每股收益（元/股）', '3.79', '0.63', '0.63', '501.59%', '-0.920', '-0.920']\n",
      "['稀释每股收益（元/股）', '3.77', '0.63', '0.63', '498.41%', '-0.920', '-0.920']\n",
      "['加权平均净资产收益率', '83.18%', '25.82%', '25.82%', '57.36%', '-23.13%', '-23.13%']\n"
     ]
    }
   ],
   "source": [
    "for row in out:\n",
    "    print(row)"
   ]
  }
 ],
 "metadata": {
  "kernelspec": {
   "display_name": "docai",
   "language": "python",
   "name": "python3"
  },
  "language_info": {
   "codemirror_mode": {
    "name": "ipython",
    "version": 3
   },
   "file_extension": ".py",
   "mimetype": "text/x-python",
   "name": "python",
   "nbconvert_exporter": "python",
   "pygments_lexer": "ipython3",
   "version": "3.11.10"
  }
 },
 "nbformat": 4,
 "nbformat_minor": 2
}
